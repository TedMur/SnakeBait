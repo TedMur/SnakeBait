{
 "cells": [
  {
   "cell_type": "code",
   "execution_count": 2,
   "metadata": {},
   "outputs": [
    {
     "name": "stderr",
     "output_type": "stream",
     "text": [
      "C:\\Users\\Sasha\\Anaconda\\envs\\PythonData\\lib\\site-packages\\ipykernel_launcher.py:37: UserWarning: Boolean Series key will be reindexed to match DataFrame index.\n"
     ]
    }
   ],
   "source": [
    "#If a county is good at recording their data, then they should have less readmissions. \n",
    "\n",
    "import pandas as pd\n",
    "import numpy as np\n",
    "import matplotlib.pyplot as plt\n",
    "\n",
    "# To import libraries\n",
    "comp_deaths_hospitals = pd.read_csv(\"Complications and Deaths - Hospital 6.csv\", low_memory=False)\n",
    "readdmissions = pd.read_csv(\"Readmissions and Deaths - VA_07_10_2018 6.csv\", low_memory=False)\n",
    "medicare = pd.read_csv(\"Medicare Hospital Spending per Patient - Hospital 6.csv\", low_memory=False)\n",
    "u_visits = pd.read_csv(\"Unplanned Hospital Visits - Hospital 6.csv\", low_memory=False)\n",
    "\n",
    "comp_deaths_hospitals_ks_mo = comp_deaths_hospitals[(comp_deaths_hospitals['State']=='KS')|(comp_deaths_hospitals['State']=='MO')]\n",
    "readdmissions_ks_mo = readdmissions[(readdmissions['State']=='KS')|(readdmissions['State']=='MO')]\n",
    "medicare_ks_mo = medicare[(medicare['State']=='KS')|(medicare['State']=='MO')]\n",
    "u_visits_ks_mo = u_visits[(u_visits['State']=='KS')|(u_visits['State']=='MO')]\n",
    "\n",
    "comp_deaths_hospitals_county = comp_deaths_hospitals_ks_mo[(comp_deaths_hospitals['County Name']=='JACKSON')|\n",
    "                                               (comp_deaths_hospitals['County Name']=='JOHNSON')|\n",
    "                                               (comp_deaths_hospitals['County Name']=='CLAY')|\n",
    "                                               (comp_deaths_hospitals['County Name']=='LEAVENWORTH')|\n",
    "                                               (comp_deaths_hospitals['County Name']=='SEDGWICK')|\n",
    "                                               (comp_deaths_hospitals['County Name']=='WYANDOTTE')]\n",
    "\n",
    "readdmissions_county = readdmissions_ks_mo[(readdmissions['County']=='JACKSON')|\n",
    "                                    (readdmissions['County']=='JOHNSON')|\n",
    "                                    (readdmissions['County']=='CLAY')|\n",
    "                                    (readdmissions['County']=='LEAVENWORTH')|\n",
    "                                    (readdmissions['County']=='SEDGWICK')|\n",
    "                                    (readdmissions['County']=='WYANDOTTE')]\n",
    "                                      \n",
    "medicare_county = medicare_ks_mo[(medicare['County Name']=='JACKSON')|\n",
    "                          (medicare['County Name']=='JOHNSON')|\n",
    "                          (medicare['County Name']=='CLAY')|\n",
    "                          (medicare['County Name']=='LEAVENWORTH')|\n",
    "                          (medicare['County Name']=='SEDGWICK')|\n",
    "                          (medicare['County Name']=='WYANDOTTE')]\n",
    "\n",
    "u_visits_county = u_visits_ks_mo[(u_visits['County Name']=='JACKSON')|\n",
    "                          (u_visits['County Name']=='JOHNSON')|\n",
    "                          (u_visits['County Name']=='CLAY')|\n",
    "                          (u_visits['County Name']=='LEAVENWORTH')|\n",
    "                          (u_visits['County Name']=='SEDGWICK')|\n",
    "                          (u_visits['County Name']=='WYANDOTTE')]"
   ]
  },
  {
   "cell_type": "code",
   "execution_count": 17,
   "metadata": {},
   "outputs": [
    {
     "name": "stderr",
     "output_type": "stream",
     "text": [
      "C:\\Users\\Sasha\\Anaconda\\envs\\PythonData\\lib\\site-packages\\ipykernel_launcher.py:5: UserWarning: Boolean Series key will be reindexed to match DataFrame index.\n",
      "  \"\"\"\n"
     ]
    },
    {
     "data": {
      "text/plain": [
       "[97, 9, 163]"
      ]
     },
     "execution_count": 17,
     "metadata": {},
     "output_type": "execute_result"
    }
   ],
   "source": [
    "# For each file and county, filter out the unavailable data in the score column\n",
    "jackson_u = u_visits_county[(u_visits['County Name']=='JACKSON')]\n",
    "jackson_u = jackson_u[(jackson_u['Score']!='Not Available')]\n",
    "jackson_medi = medicare_county[(medicare_ks_mo['County Name']=='JACKSON')]\n",
    "jackson_m = jackson_medi[(medicare_ks_mo['Score']!='Not Available')]\n",
    "jackson_read = readdmissions_county[(readdmissions_ks_mo['County']=='JACKSON')]\n",
    "#jackson_r = jackson_read[(jackson_read['Score']!='N/A')]\n",
    "jackson_death = comp_deaths_hospitals_county[(comp_deaths_hospitals_ks_mo['County Name']=='JACKSON')]\n",
    "jackson_d = jackson_death[(jackson_death['Score']!='Not Available')]\n",
    "\n",
    "# jackson_u, jackson_m, jackson_d\n",
    "jackson_scores = [jackson_u['Score'].count(), jackson_m['Score'].count(), jackson_d['Score'].count()]\n",
    "\n",
    "jackson_scores"
   ]
  },
  {
   "cell_type": "code",
   "execution_count": 18,
   "metadata": {},
   "outputs": [
    {
     "name": "stderr",
     "output_type": "stream",
     "text": [
      "C:\\Users\\Sasha\\Anaconda\\envs\\PythonData\\lib\\site-packages\\ipykernel_launcher.py:4: UserWarning: Boolean Series key will be reindexed to match DataFrame index.\n",
      "  after removing the cwd from sys.path.\n"
     ]
    },
    {
     "data": {
      "text/plain": [
       "[60, 8, 127]"
      ]
     },
     "execution_count": 18,
     "metadata": {},
     "output_type": "execute_result"
    }
   ],
   "source": [
    "johnson_u = u_visits_county[(u_visits['County Name']=='JOHNSON')]\n",
    "johnson_u = johnson_u[(johnson_u['Score']!='Not Available')]\n",
    "johnson_medi = medicare_county[(medicare_ks_mo['County Name']=='JOHNSON')]\n",
    "johnson_m = johnson_medi[(medicare_ks_mo['Score']!='Not Available')]\n",
    "johnson_read = readdmissions_county[(readdmissions_ks_mo['County']=='JOHNSON')]\n",
    "#jackson_r = jackson_read[(jackson_read['Score']!='N/A')]\n",
    "johnson_death = comp_deaths_hospitals_county[(comp_deaths_hospitals_ks_mo['County Name']=='JOHNSON')]\n",
    "johnson_d = johnson_death[(johnson_death['Score']!='Not Available')]\n",
    "\n",
    "johnson_scores = [johnson_u['Score'].count(), johnson_m['Score'].count(), johnson_d['Score'].count()]\n",
    "\n",
    "johnson_scores"
   ]
  },
  {
   "cell_type": "code",
   "execution_count": 19,
   "metadata": {},
   "outputs": [
    {
     "name": "stderr",
     "output_type": "stream",
     "text": [
      "C:\\Users\\Sasha\\Anaconda\\envs\\PythonData\\lib\\site-packages\\ipykernel_launcher.py:4: UserWarning: Boolean Series key will be reindexed to match DataFrame index.\n",
      "  after removing the cwd from sys.path.\n"
     ]
    },
    {
     "data": {
      "text/plain": [
       "[24, 2, 38]"
      ]
     },
     "execution_count": 19,
     "metadata": {},
     "output_type": "execute_result"
    }
   ],
   "source": [
    "clay_u = u_visits_county[(u_visits['County Name']=='CLAY')]\n",
    "clay_u = clay_u[(clay_u['Score']!='Not Available')]\n",
    "clay_medi = medicare_county[(medicare_ks_mo['County Name']=='CLAY')]\n",
    "clay_m = clay_medi[(medicare_ks_mo['Score']!='Not Available')]\n",
    "clay_read = readdmissions_county[(readdmissions_ks_mo['County']=='CLAY')]\n",
    "#clay_r = clay_read[(clay_read['Score']!='N/A')]\n",
    "clay_death = comp_deaths_hospitals_county[(comp_deaths_hospitals_ks_mo['County Name']=='CLAY')]\n",
    "clay_d = clay_death[(clay_death['Score']!='Not Available')]\n",
    "\n",
    "clay_scores = [clay_u['Score'].count(), clay_m['Score'].count(), clay_d['Score'].count()]\n",
    "\n",
    "clay_scores"
   ]
  },
  {
   "cell_type": "code",
   "execution_count": 20,
   "metadata": {},
   "outputs": [
    {
     "name": "stderr",
     "output_type": "stream",
     "text": [
      "C:\\Users\\Sasha\\Anaconda\\envs\\PythonData\\lib\\site-packages\\ipykernel_launcher.py:4: UserWarning: Boolean Series key will be reindexed to match DataFrame index.\n",
      "  after removing the cwd from sys.path.\n"
     ]
    },
    {
     "data": {
      "text/plain": [
       "[24, 2, 24]"
      ]
     },
     "execution_count": 20,
     "metadata": {},
     "output_type": "execute_result"
    }
   ],
   "source": [
    "leavenworth_u = u_visits_county[(u_visits['County Name']=='LEAVENWORTH')]\n",
    "leavenworth_u = leavenworth_u[(leavenworth_u['Score']!='Not Available')]\n",
    "leaven_medi = medicare_county[(medicare_ks_mo['County Name']=='LEAVENWORTH')]\n",
    "leaven_m = leaven_medi[(medicare_ks_mo['Score']!='Not Available')]\n",
    "leaven_read = readdmissions_county[(readdmissions_ks_mo['County']=='LEAVENWORTH')]\n",
    "#leaven_r = leaven_read[(leaven_read['Score']!='N/A')]\n",
    "leaven_death = comp_deaths_hospitals_county[(comp_deaths_hospitals_ks_mo['County Name']=='LEAVENWORTH')]\n",
    "leaven_d = leaven_death[(leaven_death['Score']!='Not Available')]\n",
    "\n",
    "leaven_scores = [leaven_d['Score'].count(), leaven_m['Score'].count(), leaven_d['Score'].count()]\n",
    "\n",
    "leaven_scores"
   ]
  },
  {
   "cell_type": "code",
   "execution_count": 21,
   "metadata": {},
   "outputs": [
    {
     "name": "stderr",
     "output_type": "stream",
     "text": [
      "C:\\Users\\Sasha\\Anaconda\\envs\\PythonData\\lib\\site-packages\\ipykernel_launcher.py:4: UserWarning: Boolean Series key will be reindexed to match DataFrame index.\n",
      "  after removing the cwd from sys.path.\n"
     ]
    },
    {
     "data": {
      "text/plain": [
       "[43, 6, 95]"
      ]
     },
     "execution_count": 21,
     "metadata": {},
     "output_type": "execute_result"
    }
   ],
   "source": [
    "sedg_u = u_visits_county[(u_visits['County Name']=='SEDGWICK')]\n",
    "sedg_u = sedg_u[(sedg_u['Score']!='Not Available')]\n",
    "sedg_medi = medicare_county[(medicare_ks_mo['County Name']=='SEDGWICK')]\n",
    "sedg_m = sedg_medi[(medicare_ks_mo['Score']!='Not Available')]\n",
    "sedg_read = readdmissions_county[(readdmissions_ks_mo['County']=='SEDGWICK')]\n",
    "#sedg_r = sedg_read[(sedg_read['Score']!='N/A')]\n",
    "sedg_death = comp_deaths_hospitals_county[(comp_deaths_hospitals_ks_mo['County Name']=='SEDGWICK')]\n",
    "sedg_d = sedg_death[(sedg_death['Score']!='Not Available')]\n",
    "\n",
    "sedg_scores = [sedg_u['Score'].count(), sedg_m['Score'].count(), sedg_d['Score'].count()]\n",
    "\n",
    "sedg_scores"
   ]
  },
  {
   "cell_type": "code",
   "execution_count": 22,
   "metadata": {},
   "outputs": [
    {
     "name": "stderr",
     "output_type": "stream",
     "text": [
      "C:\\Users\\Sasha\\Anaconda\\envs\\PythonData\\lib\\site-packages\\ipykernel_launcher.py:4: UserWarning: Boolean Series key will be reindexed to match DataFrame index.\n",
      "  after removing the cwd from sys.path.\n"
     ]
    },
    {
     "data": {
      "text/plain": [
       "[24, 2, 38]"
      ]
     },
     "execution_count": 22,
     "metadata": {},
     "output_type": "execute_result"
    }
   ],
   "source": [
    "wyan_u = u_visits_county[(u_visits['County Name']=='WYANDOTTE')]\n",
    "wyan_u = wyan_u[(wyan_u['Score']!='Not Available')]\n",
    "wyan_medi = medicare_county[(medicare_ks_mo['County Name']=='WYANDOTTE')]\n",
    "wyan_m = wyan_medi[(medicare_ks_mo['Score']!='Not Available')]\n",
    "wyan_read = readdmissions_county[(readdmissions_ks_mo['County']=='WYANDOTTE')]\n",
    "#wyan_r = wyan_read[(wyan_read['Score']!='N/A')]\n",
    "wyan_death = comp_deaths_hospitals_county[(comp_deaths_hospitals_ks_mo['County Name']=='WYANDOTTE')]\n",
    "wyan_d = wyan_death[(wyan_death['Score']!='Not Available')]\n",
    "\n",
    "wyan_scores = [wyan_u['Score'].count(), wyan_m['Score'].count(), wyan_d['Score'].count()]\n",
    "\n",
    "wyan_scores"
   ]
  },
  {
   "cell_type": "code",
   "execution_count": 23,
   "metadata": {},
   "outputs": [
    {
     "data": {
      "text/plain": [
       "[24, 2, 38]"
      ]
     },
     "execution_count": 23,
     "metadata": {},
     "output_type": "execute_result"
    }
   ],
   "source": [
    "jackson_scores\n",
    "johnson_scores\n",
    "clay_scores\n",
    "leaven_scores\n",
    "sedg_scores\n",
    "wyan_scores"
   ]
  },
  {
   "cell_type": "code",
   "execution_count": 42,
   "metadata": {},
   "outputs": [
    {
     "data": {
      "text/plain": [
       "<Figure size 2520x1440 with 0 Axes>"
      ]
     },
     "metadata": {},
     "output_type": "display_data"
    },
    {
     "data": {
      "image/png": "[encoded data removed]",
      "text/plain": [
       "<Figure size 432x288 with 1 Axes>"
      ]
     },
     "metadata": {
      "needs_background": "light"
     },
     "output_type": "display_data"
    }
   ],
   "source": [
    "all_scores = [jackson_scores, johnson_scores, clay_scores, leaven_scores, sedg_scores, wyan_scores]\n",
    "visit_scores = [jackson_scores[0], johnson_scores[0], clay_scores[0], leaven_scores[0], sedg_scores[0], wyan_scores[0]]\n",
    "medi_scores = [jackson_scores[1], johnson_scores[1], clay_scores[1], leaven_scores[1], sedg_scores[1], wyan_scores[1]]\n",
    "comp_scores = [jackson_scores[2], johnson_scores[2], clay_scores[2], leaven_scores[2], sedg_scores[2], wyan_scores[2]]\n",
    "plt.figure(figsize=(35,20))\n",
    "plt.tight_layout()\n",
    "ind = np.arange(len(all_scores))\n",
    "fig, ax = plt.subplots()\n",
    "ax.set_ylabel('# of Scores')\n",
    "ax.set_title('Count of Scores by County')\n",
    "ax.set_xticks(ind)\n",
    "width = .10\n",
    "rects1 = ax.bar(ind - width, visit_scores, width,\n",
    "                color='SkyBlue', label='Unplanned Hospital Visits')\n",
    "rects2 = ax.bar(ind + width, medi_scores, width,\n",
    "                color='IndianRed', label='Medicare Hospital Spending per Patient')\n",
    "rects3 = ax.bar(ind, comp_scores, width, color='Yellow', label='Complications and Deaths')\n",
    "ax.set_xticklabels(('Jackson', 'Johnson', 'Clay', 'Leavenworth', 'Sedgwick', 'Wyandotte'))\n",
    "ax.legend()\n",
    "\n",
    "def autolabel(rects, xpos='center'):\n",
    "    xpos = xpos.lower()  # normalize the case of the parameter\n",
    "    ha = {'center': 'center', 'right': 'left', 'left': 'right'}\n",
    "    offset = {'center': 0.5, 'right': 0.57, 'left': 0.43}  # x_txt = x + w*off\n",
    "    \n",
    "    for rect in rects:\n",
    "        height = rect.get_height()\n",
    "        ax.text(rect.get_x() + rect.get_width()*offset[xpos], 1.01*height,\n",
    "                '{}'.format(height), ha=ha[xpos], va='bottom')\n",
    "        \n",
    "autolabel(rects1, \"left\")\n",
    "autolabel(rects2, \"right\")\n",
    "autolabel(rects3, \"center\")\n",
    "plt.savefig(\"Scores_by_County.png\")"
   ]
  },
  {
   "cell_type": "code",
   "execution_count": null,
   "metadata": {},
   "outputs": [],
   "source": []
  }
 ],
 "metadata": {
  "kernelspec": {
   "display_name": "Python 3",
   "language": "python",
   "name": "python3"
  },
  "language_info": {
   "codemirror_mode": {
    "name": "ipython",
    "version": 3
   },
   "file_extension": ".py",
   "mimetype": "text/x-python",
   "name": "python",
   "nbconvert_exporter": "python",
   "pygments_lexer": "ipython3",
   "version": "3.6.7"
  }
 },
 "nbformat": 4,
 "nbformat_minor": 2
}
