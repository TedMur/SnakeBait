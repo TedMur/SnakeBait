{
 "cells": [
  {
   "cell_type": "code",
   "execution_count": 1,
   "metadata": {},
   "outputs": [],
   "source": [
    "import pandas as pd\n",
    "import numpy as np\n",
    "import matplotlib.pyplot as plt"
   ]
  },
  {
   "cell_type": "code",
   "execution_count": 2,
   "metadata": {},
   "outputs": [],
   "source": [
    "# To import libraries\n",
    "comp_deaths_hospitals = pd.read_csv(\"Complications and Deaths - Hospital.csv\", low_memory=False)\n",
    "readdmissions = pd.read_csv(\"Readmissions and Deaths - VA_07_10_2018.csv\", low_memory=False)\n",
    "medicare = pd.read_csv(\"Medicare Hospital Spending per Patient - Hospital.csv\", low_memory=False)\n",
    "u_visits = pd.read_csv(\"Unplanned Hospital Visits - Hospital.csv\", low_memory=False)"
   ]
  },
  {
   "cell_type": "code",
   "execution_count": 29,
   "metadata": {},
   "outputs": [],
   "source": [
    "# To narrow each dataframe down to county level, JACKSON, JOHNSON, CLAY, LEAVENWORTH, WYANDOTTE\n",
    "comp_deaths_hospitals_county = comp_deaths_hospitals[(comp_deaths_hospitals['County Name']=='JACKSON')|\n",
    "                                               (comp_deaths_hospitals['County Name']=='JOHNSON')|\n",
    "                                               (comp_deaths_hospitals['County Name']=='CLAY')|\n",
    "                                               (comp_deaths_hospitals['County Name']=='LEAVENWORTH')|\n",
    "                                               (comp_deaths_hospitals['County Name']=='WYANDOTTE')]\n",
    "\n",
    "readdmissions_county = readdmissions[(readdmissions['County']=='JACKSON')|\n",
    "                                    (readdmissions['County']=='JOHNSON')|\n",
    "                                    (readdmissions['County']=='CLAY')|\n",
    "                                    (readdmissions['County']=='LEAVENWORTH')|\n",
    "                                    (readdmissions['County']=='WYANDOTTE')]\n",
    "                                      \n",
    "medicare_county = medicare[(medicare['County Name']=='JACKSON')|\n",
    "                          (medicare['County Name']=='JOHNSON')|\n",
    "                          (medicare['County Name']=='CLAY')|\n",
    "                          (medicare['County Name']=='LEAVENWORTH')|\n",
    "                          (medicare['County Name']=='WYANDOTTE')]\n",
    "\n",
    "u_visits_county = u_visits[(u_visits['County Name']=='JACKSON')|\n",
    "                          (u_visits['County Name']=='JOHNSON')|\n",
    "                          (u_visits['County Name']=='CLAY')|\n",
    "                          (u_visits['County Name']=='LEAVENWORTH')|\n",
    "                          (u_visits['County Name']=='WYANDOTTE')]"
   ]
  },
  {
   "cell_type": "code",
   "execution_count": 8,
   "metadata": {},
   "outputs": [
    {
     "ename": "SyntaxError",
     "evalue": "invalid syntax (<ipython-input-8-723fd842dc15>, line 2)",
     "output_type": "error",
     "traceback": [
      "\u001b[0;36m  File \u001b[0;32m\"<ipython-input-8-723fd842dc15>\"\u001b[0;36m, line \u001b[0;32m2\u001b[0m\n\u001b[0;31m    comp_deaths_hospitals_county = comp_deaths_hospitals_ks_mo[comp_deaths_hospitals_ks_mo['County Name']==]\u001b[0m\n\u001b[0m                                                                                                           ^\u001b[0m\n\u001b[0;31mSyntaxError\u001b[0m\u001b[0;31m:\u001b[0m invalid syntax\n"
     ]
    }
   ],
   "source": [
    "# To narrow each dataframe down to county, \n",
    "comp_deaths_hospitals_county = comp_deaths_hospitals_ks_mo\n",
    "readdmissions_county = \n",
    "medicare_county = \n",
    "u_visits_county = \n"
   ]
  },
  {
   "cell_type": "code",
   "execution_count": 25,
   "metadata": {},
   "outputs": [
    {
     "data": {
      "text/plain": [
       "Provider ID             1700401700401700401700401700401700401700401700...\n",
       "Hospital Name           UNIVERSITY OF KANSAS HOSPITALUNIVERSITY OF KAN...\n",
       "Address                 4000 CAMBRIDGE STREET4000 CAMBRIDGE STREET4000...\n",
       "City                    KANSAS CITYKANSAS CITYKANSAS CITYKANSAS CITYKA...\n",
       "State                   KSKSKSKSKSKSKSKSKSKSKSKSKSKSKSKSKSKSKSKSKSKSKS...\n",
       "ZIP Code                                                          2513168\n",
       "County Name             WYANDOTTEWYANDOTTEWYANDOTTEWYANDOTTEWYANDOTTEW...\n",
       "Phone Number                                                 347165175308\n",
       "Measure Name            Rate of complications for hip/knee replacement...\n",
       "Measure ID              COMP_HIP_KNEEMORT_30_AMIMORT_30_CABGMORT_30_CO...\n",
       "Compared to National    No Different than the National RateNo Differen...\n",
       "Denominator             4722031841765794693464539344369174381196644331...\n",
       "Score                   2.513.71.66.78.511.813.30.665.753.936.840.620....\n",
       "Lower Estimate          1.710.80.94.86.89.610.60.003.162.685.160.000.1...\n",
       "Higher Estimate         3.717.53.19.310.614.416.41.398.345.178.521.511...\n",
       "Footnote                                                                0\n",
       "Measure Start Date      04/01/201407/01/201407/01/201407/01/201407/01/...\n",
       "Measure End Date        03/31/201706/30/201706/30/201706/30/201706/30/...\n",
       "dtype: object"
      ]
     },
     "execution_count": 25,
     "metadata": {},
     "output_type": "execute_result"
    }
   ],
   "source": [
    "comp_deaths_hospitals_ks_mo[comp_deaths_hospitals_ks_mo['County Name']=='WYANDOTTE'].sum()"
   ]
  },
  {
   "cell_type": "code",
   "execution_count": null,
   "metadata": {},
   "outputs": [],
   "source": [
    "u_visits_ks_mo.plot()"
   ]
  },
  {
   "cell_type": "code",
   "execution_count": 14,
   "metadata": {},
   "outputs": [
    {
     "data": {
      "text/html": [
       "<div>\n",
       "<style scoped>\n",
       "    .dataframe tbody tr th:only-of-type {\n",
       "        vertical-align: middle;\n",
       "    }\n",
       "\n",
       "    .dataframe tbody tr th {\n",
       "        vertical-align: top;\n",
       "    }\n",
       "\n",
       "    .dataframe thead th {\n",
       "        text-align: right;\n",
       "    }\n",
       "</style>\n",
       "<table border=\"1\" class=\"dataframe\">\n",
       "  <thead>\n",
       "    <tr style=\"text-align: right;\">\n",
       "      <th></th>\n",
       "      <th>County Name</th>\n",
       "      <th>Measure Name</th>\n",
       "      <th>Measure ID</th>\n",
       "      <th>Compared to National</th>\n",
       "      <th>Denominator</th>\n",
       "      <th>Score</th>\n",
       "      <th>Lower Estimate</th>\n",
       "      <th>Higher Estimate</th>\n",
       "    </tr>\n",
       "  </thead>\n",
       "  <tbody>\n",
       "    <tr>\n",
       "      <th>0</th>\n",
       "      <td>HOUSTON</td>\n",
       "      <td>Hospital return days for heart attack patients</td>\n",
       "      <td>EDAC_30_AMI</td>\n",
       "      <td>Average days per 100 discharges</td>\n",
       "      <td>798</td>\n",
       "      <td>-5.9</td>\n",
       "      <td>-15.9</td>\n",
       "      <td>4.8</td>\n",
       "    </tr>\n",
       "    <tr>\n",
       "      <th>1</th>\n",
       "      <td>HOUSTON</td>\n",
       "      <td>Hospital return days for heart failure patients</td>\n",
       "      <td>EDAC_30_HF</td>\n",
       "      <td>More days than average per 100 discharges</td>\n",
       "      <td>1060</td>\n",
       "      <td>17.1</td>\n",
       "      <td>3.4</td>\n",
       "      <td>31.7</td>\n",
       "    </tr>\n",
       "    <tr>\n",
       "      <th>2</th>\n",
       "      <td>HOUSTON</td>\n",
       "      <td>Hospital return days for pneumonia patients</td>\n",
       "      <td>EDAC_30_PN</td>\n",
       "      <td>Average days per 100 discharges</td>\n",
       "      <td>603</td>\n",
       "      <td>8.4</td>\n",
       "      <td>-5.9</td>\n",
       "      <td>24.4</td>\n",
       "    </tr>\n",
       "    <tr>\n",
       "      <th>3</th>\n",
       "      <td>HOUSTON</td>\n",
       "      <td>Rate of unplanned hospital visits after colono...</td>\n",
       "      <td>OP-32</td>\n",
       "      <td>No Different than the National Rate</td>\n",
       "      <td>255</td>\n",
       "      <td>14.8</td>\n",
       "      <td>10.2</td>\n",
       "      <td>21</td>\n",
       "    </tr>\n",
       "    <tr>\n",
       "      <th>4</th>\n",
       "      <td>HOUSTON</td>\n",
       "      <td>Acute Myocardial Infarction (AMI) 30-Day Readm...</td>\n",
       "      <td>READM_30_AMI</td>\n",
       "      <td>No Different than the National Rate</td>\n",
       "      <td>798</td>\n",
       "      <td>15.9</td>\n",
       "      <td>13.8</td>\n",
       "      <td>18.2</td>\n",
       "    </tr>\n",
       "  </tbody>\n",
       "</table>\n",
       "</div>"
      ],
      "text/plain": [
       "  County Name                                       Measure Name  \\\n",
       "0     HOUSTON     Hospital return days for heart attack patients   \n",
       "1     HOUSTON    Hospital return days for heart failure patients   \n",
       "2     HOUSTON        Hospital return days for pneumonia patients   \n",
       "3     HOUSTON  Rate of unplanned hospital visits after colono...   \n",
       "4     HOUSTON  Acute Myocardial Infarction (AMI) 30-Day Readm...   \n",
       "\n",
       "     Measure ID                       Compared to National Denominator Score  \\\n",
       "0   EDAC_30_AMI            Average days per 100 discharges         798  -5.9   \n",
       "1    EDAC_30_HF  More days than average per 100 discharges        1060  17.1   \n",
       "2    EDAC_30_PN            Average days per 100 discharges         603   8.4   \n",
       "3         OP-32        No Different than the National Rate         255  14.8   \n",
       "4  READM_30_AMI        No Different than the National Rate         798  15.9   \n",
       "\n",
       "  Lower Estimate Higher Estimate  \n",
       "0          -15.9             4.8  \n",
       "1            3.4            31.7  \n",
       "2           -5.9            24.4  \n",
       "3           10.2              21  \n",
       "4           13.8            18.2  "
      ]
     },
     "execution_count": 14,
     "metadata": {},
     "output_type": "execute_result"
    }
   ],
   "source": [
    "#readmissions\n",
    "#medicare\n",
    "#u_visits\n",
    "\n",
    "readmit_min = readdmissions[[\"County\", \"Measure Name\", \"Measure ID\", \"Compare to National\", \"Denominator\", \"Score\", \"Lower Estimate\", \"Higher Estimate\"]]\n",
    "medi_min = medicare[[\"County Name\", \"Measure Name\", \"Measure ID\", \"Score\"]]\n",
    "u_min = u_visits[[\"County Name\", \"Measure Name\", \"Measure ID\", \"Compared to National\", \"Denominator\", \"Score\", \"Lower Estimate\", \"Higher Estimate\" ]]\n"
   ]
  },
  {
   "cell_type": "code",
   "execution_count": null,
   "metadata": {},
   "outputs": [],
   "source": []
  }
 ],
 "metadata": {
  "hide_input": false,
  "kernelspec": {
   "display_name": "Python 3",
   "language": "python",
   "name": "python3"
  },
  "language_info": {
   "codemirror_mode": {
    "name": "ipython",
    "version": 3
   },
   "file_extension": ".py",
   "mimetype": "text/x-python",
   "name": "python",
   "nbconvert_exporter": "python",
   "pygments_lexer": "ipython3",
   "version": "3.7.1"
  },
  "toc": {
   "base_numbering": 1,
   "nav_menu": {},
   "number_sections": true,
   "sideBar": true,
   "skip_h1_title": false,
   "title_cell": "Table of Contents",
   "title_sidebar": "Contents",
   "toc_cell": false,
   "toc_position": {},
   "toc_section_display": true,
   "toc_window_display": false
  },
  "varInspector": {
   "cols": {
    "lenName": 16,
    "lenType": 16,
    "lenVar": 40
   },
   "kernels_config": {
    "python": {
     "delete_cmd_postfix": "",
     "delete_cmd_prefix": "del ",
     "library": "var_list.py",
     "varRefreshCmd": "print(var_dic_list())"
    },
    "r": {
     "delete_cmd_postfix": ") ",
     "delete_cmd_prefix": "rm(",
     "library": "var_list.r",
     "varRefreshCmd": "cat(var_dic_list()) "
    }
   },
   "types_to_exclude": [
    "module",
    "function",
    "builtin_function_or_method",
    "instance",
    "_Feature"
   ],
   "window_display": false
  }
 },
 "nbformat": 4,
 "nbformat_minor": 2
}
