{
 "cells": [
  {
   "cell_type": "code",
   "execution_count": 35,
   "metadata": {},
   "outputs": [],
   "source": [
    "import pandas as pd\n",
    "import numpy as np\n",
    "import matplotlib.pyplot as plt\n",
    "from sklearn import preprocessing"
   ]
  },
  {
   "cell_type": "code",
   "execution_count": 36,
   "metadata": {},
   "outputs": [],
   "source": [
    "# To import libraries\n",
    "comp_deaths_hospitals = pd.read_csv(\"No-missing-score dataframes are in here/Complications and Deaths - Hospital.csv\", low_memory=False)\n",
    "readdmissions = pd.read_csv(\"No-missing-score dataframes are in here/Readmissions and Deaths - VA_07_10_2018.csv\", low_memory=False)\n",
    "medicare = pd.read_csv(\"No-missing-score dataframes are in here/Medicare Hospital Spending per Patient - Hospital.csv\", low_memory=False)\n",
    "u_visits = pd.read_csv(\"No-missing-score dataframes are in here/Unplanned Hospital Visits - Hospital.csv\", low_memory=False)"
   ]
  },
  {
   "cell_type": "code",
   "execution_count": null,
   "metadata": {},
   "outputs": [],
   "source": []
  },
  {
   "cell_type": "markdown",
   "metadata": {},
   "source": [
    "# Data Cleaning"
   ]
  },
  {
   "cell_type": "markdown",
   "metadata": {},
   "source": [
    "## To narrow each dataframe down to state level, KS and MO"
   ]
  },
  {
   "cell_type": "code",
   "execution_count": 37,
   "metadata": {},
   "outputs": [],
   "source": [
    "comp_deaths_hospitals_ks_mo = comp_deaths_hospitals[(comp_deaths_hospitals['State']=='KS')|(comp_deaths_hospitals['State']=='MO')]\n",
    "readdmissions_ks_mo = readdmissions[(readdmissions['State']=='KS')|(readdmissions['State']=='MO')]\n",
    "medicare_ks_mo = medicare[(medicare['State']=='KS')|(medicare['State']=='MO')]\n",
    "u_visits_ks_mo = u_visits[(u_visits['State']=='KS')|(u_visits['State']=='MO')]"
   ]
  },
  {
   "cell_type": "markdown",
   "metadata": {},
   "source": [
    "## To narrow each dataframe down to county level, JACKSON, JOHNSON, CLAY, LEAVENWORTH, WYANDOTTE, SEDGWICK"
   ]
  },
  {
   "cell_type": "code",
   "execution_count": 38,
   "metadata": {},
   "outputs": [
    {
     "name": "stderr",
     "output_type": "stream",
     "text": [
      "/anaconda3/lib/python3.7/site-packages/ipykernel_launcher.py:6: UserWarning: Boolean Series key will be reindexed to match DataFrame index.\n",
      "  \n",
      "/anaconda3/lib/python3.7/site-packages/ipykernel_launcher.py:13: UserWarning: Boolean Series key will be reindexed to match DataFrame index.\n",
      "  del sys.path[0]\n",
      "/anaconda3/lib/python3.7/site-packages/ipykernel_launcher.py:20: UserWarning: Boolean Series key will be reindexed to match DataFrame index.\n",
      "/anaconda3/lib/python3.7/site-packages/ipykernel_launcher.py:27: UserWarning: Boolean Series key will be reindexed to match DataFrame index.\n"
     ]
    }
   ],
   "source": [
    "comp_deaths_hospitals_county = comp_deaths_hospitals_ks_mo[(comp_deaths_hospitals['County Name']=='JACKSON')|\n",
    "                                               (comp_deaths_hospitals['County Name']=='JOHNSON')|\n",
    "                                               (comp_deaths_hospitals['County Name']=='CLAY')|\n",
    "                                               (comp_deaths_hospitals['County Name']=='LEAVENWORTH')|\n",
    "                                               (comp_deaths_hospitals['County Name']=='SEDGWICK')|\n",
    "                                               (comp_deaths_hospitals['County Name']=='WYANDOTTE')]\n",
    "\n",
    "readdmissions_county = readdmissions_ks_mo[(readdmissions['County']=='JACKSON')|\n",
    "                                    (readdmissions['County']=='JOHNSON')|\n",
    "                                    (readdmissions['County']=='CLAY')|\n",
    "                                    (readdmissions['County']=='LEAVENWORTH')|\n",
    "                                    (readdmissions['County']=='SEDGWICK')|\n",
    "                                    (readdmissions['County']=='WYANDOTTE')]\n",
    "                                      \n",
    "medicare_county = medicare_ks_mo[(medicare['County Name']=='JACKSON')|\n",
    "                          (medicare['County Name']=='JOHNSON')|\n",
    "                          (medicare['County Name']=='CLAY')|\n",
    "                          (medicare['County Name']=='LEAVENWORTH')|\n",
    "                          (medicare['County Name']=='SEDGWICK')|\n",
    "                          (medicare['County Name']=='WYANDOTTE')]\n",
    "\n",
    "u_visits_county = u_visits_ks_mo[(u_visits['County Name']=='JACKSON')|\n",
    "                          (u_visits['County Name']=='JOHNSON')|\n",
    "                          (u_visits['County Name']=='CLAY')|\n",
    "                          (u_visits['County Name']=='LEAVENWORTH')|\n",
    "                          (u_visits['County Name']=='SEDGWICK')|\n",
    "                          (u_visits['County Name']=='WYANDOTTE')]"
   ]
  },
  {
   "cell_type": "markdown",
   "metadata": {},
   "source": [
    "## To select all columns that seems useful"
   ]
  },
  {
   "cell_type": "code",
   "execution_count": 39,
   "metadata": {},
   "outputs": [],
   "source": [
    "# Renameing \"County\" columns to \"County Name\"\n",
    "readdmissions_county = readdmissions_county.rename(columns={'County':'County Name'})"
   ]
  },
  {
   "cell_type": "code",
   "execution_count": 40,
   "metadata": {},
   "outputs": [],
   "source": [
    "comp_deaths_hospitals_county = comp_deaths_hospitals_county[['Provider ID','Hospital Name', 'City',\n",
    "                                                             'State','County Name', \n",
    "                                                             'Measure Name', 'Measure ID',\n",
    "                                                             'Compared to National', 'Score']]\n",
    "\n",
    "readdmissions_county = readdmissions_county[['Provider_ID', 'Hospital Name',  'City', 'State',\n",
    "                                             'County Name', 'Measure Name', 'Measure ID', 'Score']]\n",
    "\n",
    "medicare_county = medicare_county[['Provider ID', 'Hospital Name', 'City', 'State',\n",
    "                                   'County Name', 'Measure Name', 'Measure ID', 'Score']]\n",
    "\n",
    "u_visits_county = u_visits_county[['Provider ID', 'Hospital Name', 'City', 'State', \n",
    "                                   'County Name', 'Measure Name', 'Measure ID','Compared to National', \n",
    "                                   'Score']]"
   ]
  },
  {
   "cell_type": "markdown",
   "metadata": {},
   "source": [
    "## To take care of missing scores"
   ]
  },
  {
   "cell_type": "markdown",
   "metadata": {},
   "source": [
    "### To calculate average scores based on county for missing score values"
   ]
  },
  {
   "cell_type": "code",
   "execution_count": 41,
   "metadata": {},
   "outputs": [],
   "source": [
    "# Converting object(data type) to numeric\n",
    "# df[cols] = df[cols].apply(pd.to_numeric, errors='coerce')\n",
    "comp_deaths_hospitals_county['Score'] = comp_deaths_hospitals_county['Score'].apply(pd.to_numeric, errors = 'coerce')\n",
    "readdmissions_county['Score'] = readdmissions_county['Score'].apply(pd.to_numeric, errors = 'coerce')\n",
    "medicare_county['Score'] = medicare_county['Score'].apply(pd.to_numeric, errors = 'coerce')\n",
    "u_visits_county['Score'] = u_visits_county['Score'].apply(pd.to_numeric, errors = 'coerce')"
   ]
  },
  {
   "cell_type": "code",
   "execution_count": 42,
   "metadata": {},
   "outputs": [],
   "source": [
    "# Calculating mean and median Score by counties\n",
    "comp_deaths_hospitals_score_mean = comp_deaths_hospitals_county.groupby(by='County Name')['Score'].mean()\n",
    "comp_deaths_hospitals_score_median = comp_deaths_hospitals_county.groupby(by='County Name')['Score'].median()\n",
    "\n",
    "readdmissions_group_mean = readdmissions_county.groupby(by='County Name')['Score'].mean()\n",
    "readdmissions_group_median = readdmissions_county.groupby(by='County Name')['Score'].median()\n",
    "\n",
    "medicare_score_mean = medicare_county.groupby(by='County Name')['Score'].mean()\n",
    "medicare_score_median = medicare_county.groupby(by='County Name')['Score'].median()\n",
    "\n",
    "u_visits_score_mean = u_visits_county.groupby(by='County Name')['Score'].mean()\n",
    "u_visits_score_median = u_visits_county.groupby(by='County Name')['Score'].median()"
   ]
  },
  {
   "cell_type": "code",
   "execution_count": 43,
   "metadata": {},
   "outputs": [],
   "source": [
    "comp_deaths_score_summary = pd.DataFrame([comp_deaths_hospitals_score_mean,\n",
    "                                          comp_deaths_hospitals_score_median], index=['Mean', 'Median'])\n",
    "comp_deaths_score_summary = comp_deaths_score_summary.transpose()\n",
    "\n",
    "readdmissions_score_summary = pd.DataFrame([readdmissions_group_mean,\n",
    "                                            readdmissions_group_median], index=['Mean', 'Median'])\n",
    "readdmissions_score_summary = readdmissions_score_summary.transpose()\n",
    "\n",
    "medicare_score_summary = pd.DataFrame([medicare_score_mean,\n",
    "                                       medicare_score_median], index=['Mean', 'Median'])\n",
    "medicare_score_summary = medicare_score_summary.transpose()\n",
    "\n",
    "u_visits_score_summary = pd.DataFrame([u_visits_score_mean,\n",
    "                                       u_visits_score_median], index=['Mean', 'Median'])\n",
    "u_visits_score_summary = u_visits_score_summary.transpose()\n"
   ]
  },
  {
   "cell_type": "code",
   "execution_count": 44,
   "metadata": {},
   "outputs": [],
   "source": [
    "# Display Dataframe side by side for improving readbility"
   ]
  },
  {
   "cell_type": "code",
   "execution_count": 45,
   "metadata": {},
   "outputs": [],
   "source": [
    "# # df[\"value\"] = df.groupby(\"name\").transform(lambda x: x.fillna(x.mean()))\n",
    "\n",
    "# def comp_deaths_median_socre(cols):\n",
    "#     Score = cols[0]\n",
    "#     County_Name = cols[1]\n",
    "    \n",
    "#     if County_Name == 'JACKSON':\n",
    "#          if Score == 'NaN':\n",
    "#             return 2.980\n",
    "#     elif County_Name == 'JOHNSON':\n",
    "#         if Score == 'NaN':\n",
    "#             return 2.560\n",
    "#     elif County_Name == 'CLAY':\n",
    "#         if Score == 'NaN':\n",
    "#             return 3.430\n",
    "#     elif County_Name == 'LEAVENWORTH':\n",
    "#         if Score == 'NaN':\n",
    "#             return 2.590\n",
    "#     elif County_Name == 'SEDGWICK':\n",
    "#         if Score == 'NaN':\n",
    "#             return 2.280\n",
    "#     elif County_Name == 'WYANDOTTE':\n",
    "#         if Score == 'NaN':\n",
    "#             return 2.985\n",
    "#     else:\n",
    "#         return 'Score'\n",
    "\n",
    "# comp_deaths_hospitals_county['Score'] = (comp_deaths_hospitals_county[['Score', 'County Name']]\n",
    "#                                         .apply(comp_deaths_median_socre, axis = 1))\n"
   ]
  },
  {
   "cell_type": "code",
   "execution_count": null,
   "metadata": {},
   "outputs": [],
   "source": []
  },
  {
   "cell_type": "markdown",
   "metadata": {},
   "source": [
    "## To create columns for average income and median income"
   ]
  },
  {
   "cell_type": "markdown",
   "metadata": {},
   "source": [
    "### Average income and median income"
   ]
  },
  {
   "cell_type": "code",
   "execution_count": 46,
   "metadata": {},
   "outputs": [],
   "source": [
    "avg_income = {'Jackson ':47419,\n",
    "             'Johnson ':68334,\n",
    "             'Clay ':60438,\n",
    "             'Wyandotte ':34533,\n",
    "             'Leavenworth ':65328,\n",
    "             'Sedgwick':48670}\n",
    "\n",
    "median_income = {'Jackson ':50652,\n",
    "                'Johnson ':81121,\n",
    "                'Clay ':65675,\n",
    "                'Wyandotte ':42783,\n",
    "                'Leavenworth ':70022,\n",
    "                'Sedgwick':52841}"
   ]
  },
  {
   "cell_type": "markdown",
   "metadata": {},
   "source": [
    "### To create columns with null value"
   ]
  },
  {
   "cell_type": "code",
   "execution_count": 47,
   "metadata": {},
   "outputs": [],
   "source": [
    "comp_deaths_hospitals_county['Avg Income'] = np.nan\n",
    "readdmissions_county['Avg Income'] = np.nan\n",
    "medicare_county['Avg Income'] = np.nan\n",
    "u_visits_county['Avg Income'] = np.nan"
   ]
  },
  {
   "cell_type": "code",
   "execution_count": 48,
   "metadata": {},
   "outputs": [],
   "source": [
    "comp_deaths_hospitals_county['Median Income'] = np.nan\n",
    "readdmissions_county['Median Income'] = np.nan\n",
    "medicare_county['Median Income'] = np.nan\n",
    "u_visits_county['Median Income'] = np.nan"
   ]
  },
  {
   "cell_type": "markdown",
   "metadata": {},
   "source": [
    "### To create a function and replace null values with average income according to County"
   ]
  },
  {
   "cell_type": "code",
   "execution_count": 49,
   "metadata": {},
   "outputs": [],
   "source": [
    "# Function to replace null values\n",
    "def impute_avg_income(cols):\n",
    "    Avg_Income = cols[0]\n",
    "    County_Name = cols[1]\n",
    "    \n",
    "    if County_Name == 'JACKSON':\n",
    "        return 47419\n",
    "    elif County_Name == 'JOHNSON':\n",
    "        return 68334\n",
    "    elif County_Name == 'CLAY':\n",
    "        return 60438\n",
    "    elif County_Name == 'LEAVENWORTH':\n",
    "        return 65328\n",
    "    elif County_Name == 'SEDGWICK':\n",
    "        return 486470\n",
    "    else:\n",
    "        return 34533\n",
    "    \n",
    "def impute_median_income(cols):\n",
    "    Median_Income = cols[0]\n",
    "    County_Name = cols[1]\n",
    "    \n",
    "    if County_Name == 'JACKSON':\n",
    "        return 50652\n",
    "    elif County_Name == 'JOHNSON':\n",
    "        return 81121\n",
    "    elif County_Name == 'CLAY':\n",
    "        return 65675\n",
    "    elif County_Name == 'LEAVENWORTH':\n",
    "        return 70022\n",
    "    elif County_Name == 'SEDGWICK':\n",
    "        return 52841\n",
    "    else:\n",
    "        return 42783"
   ]
  },
  {
   "cell_type": "markdown",
   "metadata": {},
   "source": [
    "### To apply the function to \"Avg Income\" and \"Median Income\" columns"
   ]
  },
  {
   "cell_type": "code",
   "execution_count": 50,
   "metadata": {},
   "outputs": [],
   "source": [
    "comp_deaths_hospitals_county['Avg Income'] = (comp_deaths_hospitals_county[['Avg Income', 'County Name']]\n",
    "                                              .apply(impute_avg_income, axis=1))\n",
    "\n",
    "readdmissions_county['Avg Income'] = (readdmissions_county[['Avg Income', 'County Name']]\n",
    "                                      .apply(impute_avg_income, axis=1))\n",
    "\n",
    "medicare_county['Avg Income'] = (medicare_county[['Avg Income', 'County Name']]\n",
    "                                 .apply(impute_avg_income, axis=1))\n",
    "\n",
    "u_visits_county['Avg Income'] = (u_visits_county[['Avg Income', 'County Name']]\n",
    "                                 .apply(impute_avg_income, axis=1))"
   ]
  },
  {
   "cell_type": "code",
   "execution_count": 51,
   "metadata": {},
   "outputs": [],
   "source": [
    "comp_deaths_hospitals_county['Median Income'] = (comp_deaths_hospitals_county[['Median Income', 'County Name']]\n",
    "                                                 .apply(impute_median_income, axis=1))\n",
    "\n",
    "readdmissions_county['Median Income'] = (readdmissions_county[['Median Income', 'County Name']]\n",
    "                                         .apply(impute_median_income, axis=1))\n",
    "\n",
    "medicare_county['Median Income'] = (medicare_county[['Median Income', 'County Name']]\n",
    "                                    .apply(impute_median_income, axis=1))\n",
    "\n",
    "u_visits_county['Median Income'] = (u_visits_county[['Median Income', 'County Name']]\n",
    "                                    .apply(impute_median_income, axis=1))"
   ]
  },
  {
   "cell_type": "markdown",
   "metadata": {},
   "source": [
    "## Scaling Score"
   ]
  },
  {
   "cell_type": "code",
   "execution_count": 52,
   "metadata": {},
   "outputs": [
    {
     "data": {
      "text/html": [
       "<div>\n",
       "<style scoped>\n",
       "    .dataframe tbody tr th:only-of-type {\n",
       "        vertical-align: middle;\n",
       "    }\n",
       "\n",
       "    .dataframe tbody tr th {\n",
       "        vertical-align: top;\n",
       "    }\n",
       "\n",
       "    .dataframe thead th {\n",
       "        text-align: right;\n",
       "    }\n",
       "</style>\n",
       "<table border=\"1\" class=\"dataframe\">\n",
       "  <thead>\n",
       "    <tr style=\"text-align: right;\">\n",
       "      <th></th>\n",
       "      <th>Provider ID</th>\n",
       "      <th>Hospital Name</th>\n",
       "      <th>City</th>\n",
       "      <th>State</th>\n",
       "      <th>County Name</th>\n",
       "      <th>Measure Name</th>\n",
       "      <th>Measure ID</th>\n",
       "      <th>Compared to National</th>\n",
       "      <th>Score</th>\n",
       "      <th>Avg Income</th>\n",
       "      <th>Median Income</th>\n",
       "    </tr>\n",
       "  </thead>\n",
       "  <tbody>\n",
       "    <tr>\n",
       "      <th>29089</th>\n",
       "      <td>170009</td>\n",
       "      <td>SAINT JOHN HOSPITAL</td>\n",
       "      <td>LEAVENWORTH</td>\n",
       "      <td>KS</td>\n",
       "      <td>LEAVENWORTH</td>\n",
       "      <td>Rate of complications for hip/knee replacement...</td>\n",
       "      <td>COMP_HIP_KNEE</td>\n",
       "      <td>Not Available</td>\n",
       "      <td>2.59</td>\n",
       "      <td>65328</td>\n",
       "      <td>70022</td>\n",
       "    </tr>\n",
       "    <tr>\n",
       "      <th>29090</th>\n",
       "      <td>170009</td>\n",
       "      <td>SAINT JOHN HOSPITAL</td>\n",
       "      <td>LEAVENWORTH</td>\n",
       "      <td>KS</td>\n",
       "      <td>LEAVENWORTH</td>\n",
       "      <td>Death rate for heart attack patients</td>\n",
       "      <td>MORT_30_AMI</td>\n",
       "      <td>Number of Cases Too Small</td>\n",
       "      <td>2.59</td>\n",
       "      <td>65328</td>\n",
       "      <td>70022</td>\n",
       "    </tr>\n",
       "  </tbody>\n",
       "</table>\n",
       "</div>"
      ],
      "text/plain": [
       "      Provider ID        Hospital Name         City State  County Name  \\\n",
       "29089      170009  SAINT JOHN HOSPITAL  LEAVENWORTH    KS  LEAVENWORTH   \n",
       "29090      170009  SAINT JOHN HOSPITAL  LEAVENWORTH    KS  LEAVENWORTH   \n",
       "\n",
       "                                            Measure Name     Measure ID  \\\n",
       "29089  Rate of complications for hip/knee replacement...  COMP_HIP_KNEE   \n",
       "29090               Death rate for heart attack patients    MORT_30_AMI   \n",
       "\n",
       "            Compared to National  Score  Avg Income  Median Income  \n",
       "29089              Not Available   2.59       65328          70022  \n",
       "29090  Number of Cases Too Small   2.59       65328          70022  "
      ]
     },
     "execution_count": 52,
     "metadata": {},
     "output_type": "execute_result"
    }
   ],
   "source": [
    "comp_deaths_hospitals_county.head(2)"
   ]
  },
  {
   "cell_type": "code",
   "execution_count": null,
   "metadata": {},
   "outputs": [],
   "source": []
  },
  {
   "cell_type": "code",
   "execution_count": 58,
   "metadata": {},
   "outputs": [
    {
     "data": {
      "text/plain": [
       "Text(0.5, 0, 'Score')"
      ]
     },
     "execution_count": 58,
     "metadata": {},
     "output_type": "execute_result"
    },
    {
     "data": {
      "image/png": "[encoded data removed]",
      "text/plain": [
       "<Figure size 432x288 with 1 Axes>"
      ]
     },
     "metadata": {
      "needs_background": "light"
     },
     "output_type": "display_data"
    }
   ],
   "source": [
    "plt.scatter(x='Score', y='Median Income', data=comp_deaths_hospitals_county)\n",
    "plt.title('Average Income vs Score \\n Complications and Deaths')\n",
    "plt.ylabel('Average Income')\n",
    "plt.xlabel('Score')\n"
   ]
  },
  {
   "cell_type": "code",
   "execution_count": null,
   "metadata": {},
   "outputs": [],
   "source": [
    "plt.scatter(x='Avg Income', y='Score', data=comp_deaths_hospitals_county)"
   ]
  },
  {
   "cell_type": "code",
   "execution_count": null,
   "metadata": {},
   "outputs": [],
   "source": []
  },
  {
   "cell_type": "code",
   "execution_count": 53,
   "metadata": {},
   "outputs": [
    {
     "ename": "KeyError",
     "evalue": "\"['County' 'Compare to National' 'Denominator' 'Lower Estimate'\\n 'Higher Estimate'] not in index\"",
     "output_type": "error",
     "traceback": [
      "\u001b[1;31m---------------------------------------------------------------------------\u001b[0m",
      "\u001b[1;31mKeyError\u001b[0m                                  Traceback (most recent call last)",
      "\u001b[1;32m<ipython-input-53-379656c2bedc>\u001b[0m in \u001b[0;36m<module>\u001b[1;34m\u001b[0m\n\u001b[1;32m----> 1\u001b[1;33m \u001b[0mreadmit_min\u001b[0m \u001b[1;33m=\u001b[0m \u001b[0mreaddmissions_county\u001b[0m\u001b[1;33m[\u001b[0m\u001b[1;33m[\u001b[0m\u001b[1;34m\"County\"\u001b[0m\u001b[1;33m,\u001b[0m \u001b[1;34m\"Measure Name\"\u001b[0m\u001b[1;33m,\u001b[0m \u001b[1;34m\"Measure ID\"\u001b[0m\u001b[1;33m,\u001b[0m \u001b[1;34m\"Compare to National\"\u001b[0m\u001b[1;33m,\u001b[0m \u001b[1;34m\"Denominator\"\u001b[0m\u001b[1;33m,\u001b[0m \u001b[1;34m\"Score\"\u001b[0m\u001b[1;33m,\u001b[0m \u001b[1;34m\"Lower Estimate\"\u001b[0m\u001b[1;33m,\u001b[0m \u001b[1;34m\"Higher Estimate\"\u001b[0m\u001b[1;33m]\u001b[0m\u001b[1;33m]\u001b[0m\u001b[1;33m\u001b[0m\u001b[1;33m\u001b[0m\u001b[0m\n\u001b[0m\u001b[0;32m      2\u001b[0m \u001b[0mmedi_min\u001b[0m \u001b[1;33m=\u001b[0m \u001b[0mmedicare_county\u001b[0m\u001b[1;33m[\u001b[0m\u001b[1;33m[\u001b[0m\u001b[1;34m\"County Name\"\u001b[0m\u001b[1;33m,\u001b[0m \u001b[1;34m\"Measure Name\"\u001b[0m\u001b[1;33m,\u001b[0m \u001b[1;34m\"Measure ID\"\u001b[0m\u001b[1;33m,\u001b[0m \u001b[1;34m\"Score\"\u001b[0m\u001b[1;33m]\u001b[0m\u001b[1;33m]\u001b[0m\u001b[1;33m\u001b[0m\u001b[1;33m\u001b[0m\u001b[0m\n\u001b[0;32m      3\u001b[0m \u001b[0mu_min\u001b[0m \u001b[1;33m=\u001b[0m \u001b[0mu_visits_county\u001b[0m\u001b[1;33m[\u001b[0m\u001b[1;33m[\u001b[0m\u001b[1;34m\"County Name\"\u001b[0m\u001b[1;33m,\u001b[0m \u001b[1;34m\"Measure Name\"\u001b[0m\u001b[1;33m,\u001b[0m \u001b[1;34m\"Measure ID\"\u001b[0m\u001b[1;33m,\u001b[0m \u001b[1;34m\"Compared to National\"\u001b[0m\u001b[1;33m,\u001b[0m \u001b[1;34m\"Denominator\"\u001b[0m\u001b[1;33m,\u001b[0m \u001b[1;34m\"Score\"\u001b[0m\u001b[1;33m,\u001b[0m \u001b[1;34m\"Lower Estimate\"\u001b[0m\u001b[1;33m,\u001b[0m \u001b[1;34m\"Higher Estimate\"\u001b[0m \u001b[1;33m]\u001b[0m\u001b[1;33m]\u001b[0m\u001b[1;33m\u001b[0m\u001b[1;33m\u001b[0m\u001b[0m\n\u001b[0;32m      4\u001b[0m \u001b[1;33m\u001b[0m\u001b[0m\n\u001b[0;32m      5\u001b[0m \u001b[0mu_min\u001b[0m\u001b[1;33m.\u001b[0m\u001b[0mhead\u001b[0m\u001b[1;33m(\u001b[0m\u001b[1;33m)\u001b[0m\u001b[1;33m\u001b[0m\u001b[1;33m\u001b[0m\u001b[0m\n",
      "\u001b[1;32m~\\Anaconda3\\envs\\PythonData\\lib\\site-packages\\pandas\\core\\frame.py\u001b[0m in \u001b[0;36m__getitem__\u001b[1;34m(self, key)\u001b[0m\n\u001b[0;32m   2680\u001b[0m         \u001b[1;32mif\u001b[0m \u001b[0misinstance\u001b[0m\u001b[1;33m(\u001b[0m\u001b[0mkey\u001b[0m\u001b[1;33m,\u001b[0m \u001b[1;33m(\u001b[0m\u001b[0mSeries\u001b[0m\u001b[1;33m,\u001b[0m \u001b[0mnp\u001b[0m\u001b[1;33m.\u001b[0m\u001b[0mndarray\u001b[0m\u001b[1;33m,\u001b[0m \u001b[0mIndex\u001b[0m\u001b[1;33m,\u001b[0m \u001b[0mlist\u001b[0m\u001b[1;33m)\u001b[0m\u001b[1;33m)\u001b[0m\u001b[1;33m:\u001b[0m\u001b[1;33m\u001b[0m\u001b[1;33m\u001b[0m\u001b[0m\n\u001b[0;32m   2681\u001b[0m             \u001b[1;31m# either boolean or fancy integer index\u001b[0m\u001b[1;33m\u001b[0m\u001b[1;33m\u001b[0m\u001b[1;33m\u001b[0m\u001b[0m\n\u001b[1;32m-> 2682\u001b[1;33m             \u001b[1;32mreturn\u001b[0m \u001b[0mself\u001b[0m\u001b[1;33m.\u001b[0m\u001b[0m_getitem_array\u001b[0m\u001b[1;33m(\u001b[0m\u001b[0mkey\u001b[0m\u001b[1;33m)\u001b[0m\u001b[1;33m\u001b[0m\u001b[1;33m\u001b[0m\u001b[0m\n\u001b[0m\u001b[0;32m   2683\u001b[0m         \u001b[1;32melif\u001b[0m \u001b[0misinstance\u001b[0m\u001b[1;33m(\u001b[0m\u001b[0mkey\u001b[0m\u001b[1;33m,\u001b[0m \u001b[0mDataFrame\u001b[0m\u001b[1;33m)\u001b[0m\u001b[1;33m:\u001b[0m\u001b[1;33m\u001b[0m\u001b[1;33m\u001b[0m\u001b[0m\n\u001b[0;32m   2684\u001b[0m             \u001b[1;32mreturn\u001b[0m \u001b[0mself\u001b[0m\u001b[1;33m.\u001b[0m\u001b[0m_getitem_frame\u001b[0m\u001b[1;33m(\u001b[0m\u001b[0mkey\u001b[0m\u001b[1;33m)\u001b[0m\u001b[1;33m\u001b[0m\u001b[1;33m\u001b[0m\u001b[0m\n",
      "\u001b[1;32m~\\Anaconda3\\envs\\PythonData\\lib\\site-packages\\pandas\\core\\frame.py\u001b[0m in \u001b[0;36m_getitem_array\u001b[1;34m(self, key)\u001b[0m\n\u001b[0;32m   2724\u001b[0m             \u001b[1;32mreturn\u001b[0m \u001b[0mself\u001b[0m\u001b[1;33m.\u001b[0m\u001b[0m_take\u001b[0m\u001b[1;33m(\u001b[0m\u001b[0mindexer\u001b[0m\u001b[1;33m,\u001b[0m \u001b[0maxis\u001b[0m\u001b[1;33m=\u001b[0m\u001b[1;36m0\u001b[0m\u001b[1;33m)\u001b[0m\u001b[1;33m\u001b[0m\u001b[1;33m\u001b[0m\u001b[0m\n\u001b[0;32m   2725\u001b[0m         \u001b[1;32melse\u001b[0m\u001b[1;33m:\u001b[0m\u001b[1;33m\u001b[0m\u001b[1;33m\u001b[0m\u001b[0m\n\u001b[1;32m-> 2726\u001b[1;33m             \u001b[0mindexer\u001b[0m \u001b[1;33m=\u001b[0m \u001b[0mself\u001b[0m\u001b[1;33m.\u001b[0m\u001b[0mloc\u001b[0m\u001b[1;33m.\u001b[0m\u001b[0m_convert_to_indexer\u001b[0m\u001b[1;33m(\u001b[0m\u001b[0mkey\u001b[0m\u001b[1;33m,\u001b[0m \u001b[0maxis\u001b[0m\u001b[1;33m=\u001b[0m\u001b[1;36m1\u001b[0m\u001b[1;33m)\u001b[0m\u001b[1;33m\u001b[0m\u001b[1;33m\u001b[0m\u001b[0m\n\u001b[0m\u001b[0;32m   2727\u001b[0m             \u001b[1;32mreturn\u001b[0m \u001b[0mself\u001b[0m\u001b[1;33m.\u001b[0m\u001b[0m_take\u001b[0m\u001b[1;33m(\u001b[0m\u001b[0mindexer\u001b[0m\u001b[1;33m,\u001b[0m \u001b[0maxis\u001b[0m\u001b[1;33m=\u001b[0m\u001b[1;36m1\u001b[0m\u001b[1;33m)\u001b[0m\u001b[1;33m\u001b[0m\u001b[1;33m\u001b[0m\u001b[0m\n\u001b[0;32m   2728\u001b[0m \u001b[1;33m\u001b[0m\u001b[0m\n",
      "\u001b[1;32m~\\Anaconda3\\envs\\PythonData\\lib\\site-packages\\pandas\\core\\indexing.py\u001b[0m in \u001b[0;36m_convert_to_indexer\u001b[1;34m(self, obj, axis, is_setter)\u001b[0m\n\u001b[0;32m   1325\u001b[0m                 \u001b[1;32mif\u001b[0m \u001b[0mmask\u001b[0m\u001b[1;33m.\u001b[0m\u001b[0many\u001b[0m\u001b[1;33m(\u001b[0m\u001b[1;33m)\u001b[0m\u001b[1;33m:\u001b[0m\u001b[1;33m\u001b[0m\u001b[1;33m\u001b[0m\u001b[0m\n\u001b[0;32m   1326\u001b[0m                     raise KeyError('{mask} not in index'\n\u001b[1;32m-> 1327\u001b[1;33m                                    .format(mask=objarr[mask]))\n\u001b[0m\u001b[0;32m   1328\u001b[0m \u001b[1;33m\u001b[0m\u001b[0m\n\u001b[0;32m   1329\u001b[0m                 \u001b[1;32mreturn\u001b[0m \u001b[0mcom\u001b[0m\u001b[1;33m.\u001b[0m\u001b[0m_values_from_object\u001b[0m\u001b[1;33m(\u001b[0m\u001b[0mindexer\u001b[0m\u001b[1;33m)\u001b[0m\u001b[1;33m\u001b[0m\u001b[1;33m\u001b[0m\u001b[0m\n",
      "\u001b[1;31mKeyError\u001b[0m: \"['County' 'Compare to National' 'Denominator' 'Lower Estimate'\\n 'Higher Estimate'] not in index\""
     ]
    }
   ],
   "source": [
    "readmit_min = readdmissions_county[[\"County_Name\", \"Measure Name\", \"Measure ID\", \"Compare to National\", \"Denominator\", \"Score\", \"Lower Estimate\", \"Higher Estimate\"]]\n",
    "medi_min = medicare_county[[\"County Name\", \"Measure Name\", \"Measure ID\", \"Score\"]]\n",
    "u_min = u_visits_county[[\"County Name\", \"Measure Name\", \"Measure ID\", \"Compared to National\", \"Denominator\", \"Score\", \"Lower Estimate\", \"Higher Estimate\" ]]\n",
    "\n",
    "u_min.head()"
   ]
  },
  {
   "cell_type": "code",
   "execution_count": null,
   "metadata": {},
   "outputs": [],
   "source": []
  },
  {
   "cell_type": "code",
   "execution_count": null,
   "metadata": {},
   "outputs": [],
   "source": []
  },
  {
   "cell_type": "code",
   "execution_count": null,
   "metadata": {},
   "outputs": [],
   "source": []
  },
  {
   "cell_type": "code",
   "execution_count": null,
   "metadata": {},
   "outputs": [],
   "source": []
  },
  {
   "cell_type": "code",
   "execution_count": null,
   "metadata": {},
   "outputs": [],
   "source": []
  },
  {
   "cell_type": "code",
   "execution_count": null,
   "metadata": {},
   "outputs": [],
   "source": []
  },
  {
   "cell_type": "code",
   "execution_count": null,
   "metadata": {},
   "outputs": [],
   "source": []
  },
  {
   "cell_type": "code",
   "execution_count": null,
   "metadata": {},
   "outputs": [],
   "source": []
  },
  {
   "cell_type": "code",
   "execution_count": null,
   "metadata": {},
   "outputs": [],
   "source": []
  },
  {
   "cell_type": "code",
   "execution_count": null,
   "metadata": {},
   "outputs": [],
   "source": []
  },
  {
   "cell_type": "code",
   "execution_count": 48,
   "metadata": {},
   "outputs": [
    {
     "data": {
      "text/html": [
       "<div>\n",
       "<style scoped>\n",
       "    .dataframe tbody tr th:only-of-type {\n",
       "        vertical-align: middle;\n",
       "    }\n",
       "\n",
       "    .dataframe tbody tr th {\n",
       "        vertical-align: top;\n",
       "    }\n",
       "\n",
       "    .dataframe thead th {\n",
       "        text-align: right;\n",
       "    }\n",
       "</style>\n",
       "<table border=\"1\" class=\"dataframe\">\n",
       "  <thead>\n",
       "    <tr style=\"text-align: right;\">\n",
       "      <th></th>\n",
       "      <th>County Name</th>\n",
       "      <th>Measure Name Readmission</th>\n",
       "      <th>Measure ID Readmission</th>\n",
       "      <th>Compare to National</th>\n",
       "      <th>Denominator Readmission</th>\n",
       "      <th>Score Readmission</th>\n",
       "      <th>Lower Estimate Readmission</th>\n",
       "      <th>Higher Estimate Readmission</th>\n",
       "      <th>Measure Name Medicare</th>\n",
       "      <th>Measure ID Medicare</th>\n",
       "      <th>Score Medicare</th>\n",
       "      <th>Measure Name</th>\n",
       "      <th>Measure ID</th>\n",
       "      <th>Compared to National</th>\n",
       "      <th>Denominator Unexpected Visit</th>\n",
       "      <th>Score</th>\n",
       "      <th>Lower Estimate Unexpected Visit</th>\n",
       "      <th>Higher Estimate Unexpected Visit</th>\n",
       "    </tr>\n",
       "  </thead>\n",
       "  <tbody>\n",
       "    <tr>\n",
       "      <th>0</th>\n",
       "      <td>SHAWNEE</td>\n",
       "      <td>Acute Myocardial Infarction (AMI) 30-Day Morta...</td>\n",
       "      <td>MORT-30-AMI</td>\n",
       "      <td>Number of Cases Too Small</td>\n",
       "      <td>NaN</td>\n",
       "      <td>NaN</td>\n",
       "      <td>NaN</td>\n",
       "      <td>NaN</td>\n",
       "      <td>Medicare hospital spending per patient (Medica...</td>\n",
       "      <td>MSPB-1</td>\n",
       "      <td>0.98</td>\n",
       "      <td>Hospital return days for heart attack patients</td>\n",
       "      <td>EDAC_30_AMI</td>\n",
       "      <td>Average days per 100 discharges</td>\n",
       "      <td>181</td>\n",
       "      <td>-9.5</td>\n",
       "      <td>-24.7</td>\n",
       "      <td>8</td>\n",
       "    </tr>\n",
       "    <tr>\n",
       "      <th>1</th>\n",
       "      <td>SHAWNEE</td>\n",
       "      <td>Acute Myocardial Infarction (AMI) 30-Day Morta...</td>\n",
       "      <td>MORT-30-AMI</td>\n",
       "      <td>Number of Cases Too Small</td>\n",
       "      <td>NaN</td>\n",
       "      <td>NaN</td>\n",
       "      <td>NaN</td>\n",
       "      <td>NaN</td>\n",
       "      <td>Medicare hospital spending per patient (Medica...</td>\n",
       "      <td>MSPB-1</td>\n",
       "      <td>0.98</td>\n",
       "      <td>Hospital return days for heart failure patients</td>\n",
       "      <td>EDAC_30_HF</td>\n",
       "      <td>Average days per 100 discharges</td>\n",
       "      <td>414</td>\n",
       "      <td>-12.7</td>\n",
       "      <td>-30</td>\n",
       "      <td>4.3</td>\n",
       "    </tr>\n",
       "    <tr>\n",
       "      <th>2</th>\n",
       "      <td>SHAWNEE</td>\n",
       "      <td>Acute Myocardial Infarction (AMI) 30-Day Morta...</td>\n",
       "      <td>MORT-30-AMI</td>\n",
       "      <td>Number of Cases Too Small</td>\n",
       "      <td>NaN</td>\n",
       "      <td>NaN</td>\n",
       "      <td>NaN</td>\n",
       "      <td>NaN</td>\n",
       "      <td>Medicare hospital spending per patient (Medica...</td>\n",
       "      <td>MSPB-1</td>\n",
       "      <td>0.98</td>\n",
       "      <td>Hospital return days for pneumonia patients</td>\n",
       "      <td>EDAC_30_PN</td>\n",
       "      <td>Fewer days than average per 100 discharges</td>\n",
       "      <td>467</td>\n",
       "      <td>-15</td>\n",
       "      <td>-29</td>\n",
       "      <td>-2.6</td>\n",
       "    </tr>\n",
       "    <tr>\n",
       "      <th>3</th>\n",
       "      <td>SHAWNEE</td>\n",
       "      <td>Acute Myocardial Infarction (AMI) 30-Day Morta...</td>\n",
       "      <td>MORT-30-AMI</td>\n",
       "      <td>Number of Cases Too Small</td>\n",
       "      <td>NaN</td>\n",
       "      <td>NaN</td>\n",
       "      <td>NaN</td>\n",
       "      <td>NaN</td>\n",
       "      <td>Medicare hospital spending per patient (Medica...</td>\n",
       "      <td>MSPB-1</td>\n",
       "      <td>0.98</td>\n",
       "      <td>Rate of unplanned hospital visits after colono...</td>\n",
       "      <td>OP-32</td>\n",
       "      <td>No Different than the National Rate</td>\n",
       "      <td>96</td>\n",
       "      <td>15.8</td>\n",
       "      <td>11.1</td>\n",
       "      <td>22.3</td>\n",
       "    </tr>\n",
       "    <tr>\n",
       "      <th>4</th>\n",
       "      <td>SHAWNEE</td>\n",
       "      <td>Acute Myocardial Infarction (AMI) 30-Day Morta...</td>\n",
       "      <td>MORT-30-AMI</td>\n",
       "      <td>Number of Cases Too Small</td>\n",
       "      <td>NaN</td>\n",
       "      <td>NaN</td>\n",
       "      <td>NaN</td>\n",
       "      <td>NaN</td>\n",
       "      <td>Medicare hospital spending per patient (Medica...</td>\n",
       "      <td>MSPB-1</td>\n",
       "      <td>0.98</td>\n",
       "      <td>Acute Myocardial Infarction (AMI) 30-Day Readm...</td>\n",
       "      <td>READM_30_AMI</td>\n",
       "      <td>No Different than the National Rate</td>\n",
       "      <td>181</td>\n",
       "      <td>14.4</td>\n",
       "      <td>11.7</td>\n",
       "      <td>17.7</td>\n",
       "    </tr>\n",
       "    <tr>\n",
       "      <th>5</th>\n",
       "      <td>SHAWNEE</td>\n",
       "      <td>Acute Myocardial Infarction (AMI) 30-Day Morta...</td>\n",
       "      <td>MORT-30-AMI</td>\n",
       "      <td>Number of Cases Too Small</td>\n",
       "      <td>NaN</td>\n",
       "      <td>NaN</td>\n",
       "      <td>NaN</td>\n",
       "      <td>NaN</td>\n",
       "      <td>Medicare hospital spending per patient (Medica...</td>\n",
       "      <td>MSPB-1</td>\n",
       "      <td>0.98</td>\n",
       "      <td>Rate of readmission for CABG</td>\n",
       "      <td>READM_30_CABG</td>\n",
       "      <td>No Different than the National Rate</td>\n",
       "      <td>57</td>\n",
       "      <td>13.5</td>\n",
       "      <td>10</td>\n",
       "      <td>18.3</td>\n",
       "    </tr>\n",
       "    <tr>\n",
       "      <th>6</th>\n",
       "      <td>SHAWNEE</td>\n",
       "      <td>Acute Myocardial Infarction (AMI) 30-Day Morta...</td>\n",
       "      <td>MORT-30-AMI</td>\n",
       "      <td>Number of Cases Too Small</td>\n",
       "      <td>NaN</td>\n",
       "      <td>NaN</td>\n",
       "      <td>NaN</td>\n",
       "      <td>NaN</td>\n",
       "      <td>Medicare hospital spending per patient (Medica...</td>\n",
       "      <td>MSPB-1</td>\n",
       "      <td>0.98</td>\n",
       "      <td>Rate of readmission for chronic obstructive pu...</td>\n",
       "      <td>READM_30_COPD</td>\n",
       "      <td>No Different than the National Rate</td>\n",
       "      <td>257</td>\n",
       "      <td>20.1</td>\n",
       "      <td>17.1</td>\n",
       "      <td>23.6</td>\n",
       "    </tr>\n",
       "    <tr>\n",
       "      <th>7</th>\n",
       "      <td>SHAWNEE</td>\n",
       "      <td>Acute Myocardial Infarction (AMI) 30-Day Morta...</td>\n",
       "      <td>MORT-30-AMI</td>\n",
       "      <td>Number of Cases Too Small</td>\n",
       "      <td>NaN</td>\n",
       "      <td>NaN</td>\n",
       "      <td>NaN</td>\n",
       "      <td>NaN</td>\n",
       "      <td>Medicare hospital spending per patient (Medica...</td>\n",
       "      <td>MSPB-1</td>\n",
       "      <td>0.98</td>\n",
       "      <td>Heart failure (HF) 30-Day Readmission Rate</td>\n",
       "      <td>READM_30_HF</td>\n",
       "      <td>No Different than the National Rate</td>\n",
       "      <td>414</td>\n",
       "      <td>19.5</td>\n",
       "      <td>16.7</td>\n",
       "      <td>22.6</td>\n",
       "    </tr>\n",
       "    <tr>\n",
       "      <th>8</th>\n",
       "      <td>SHAWNEE</td>\n",
       "      <td>Acute Myocardial Infarction (AMI) 30-Day Morta...</td>\n",
       "      <td>MORT-30-AMI</td>\n",
       "      <td>Number of Cases Too Small</td>\n",
       "      <td>NaN</td>\n",
       "      <td>NaN</td>\n",
       "      <td>NaN</td>\n",
       "      <td>NaN</td>\n",
       "      <td>Medicare hospital spending per patient (Medica...</td>\n",
       "      <td>MSPB-1</td>\n",
       "      <td>0.98</td>\n",
       "      <td>Rate of readmission after hip/knee replacement</td>\n",
       "      <td>READM_30_HIP_KNEE</td>\n",
       "      <td>No Different than the National Rate</td>\n",
       "      <td>573</td>\n",
       "      <td>4.2</td>\n",
       "      <td>3.1</td>\n",
       "      <td>5.6</td>\n",
       "    </tr>\n",
       "    <tr>\n",
       "      <th>9</th>\n",
       "      <td>SHAWNEE</td>\n",
       "      <td>Acute Myocardial Infarction (AMI) 30-Day Morta...</td>\n",
       "      <td>MORT-30-AMI</td>\n",
       "      <td>Number of Cases Too Small</td>\n",
       "      <td>NaN</td>\n",
       "      <td>NaN</td>\n",
       "      <td>NaN</td>\n",
       "      <td>NaN</td>\n",
       "      <td>Medicare hospital spending per patient (Medica...</td>\n",
       "      <td>MSPB-1</td>\n",
       "      <td>0.98</td>\n",
       "      <td>30-Day Hospital-Wide All-Cause Unplanned Readm...</td>\n",
       "      <td>READM_30_HOSP_WIDE</td>\n",
       "      <td>No Different than the National Rate</td>\n",
       "      <td>2137</td>\n",
       "      <td>14.9</td>\n",
       "      <td>13.9</td>\n",
       "      <td>15.9</td>\n",
       "    </tr>\n",
       "  </tbody>\n",
       "</table>\n",
       "</div>"
      ],
      "text/plain": [
       "  County Name                           Measure Name Readmission  \\\n",
       "0     SHAWNEE  Acute Myocardial Infarction (AMI) 30-Day Morta...   \n",
       "1     SHAWNEE  Acute Myocardial Infarction (AMI) 30-Day Morta...   \n",
       "2     SHAWNEE  Acute Myocardial Infarction (AMI) 30-Day Morta...   \n",
       "3     SHAWNEE  Acute Myocardial Infarction (AMI) 30-Day Morta...   \n",
       "4     SHAWNEE  Acute Myocardial Infarction (AMI) 30-Day Morta...   \n",
       "5     SHAWNEE  Acute Myocardial Infarction (AMI) 30-Day Morta...   \n",
       "6     SHAWNEE  Acute Myocardial Infarction (AMI) 30-Day Morta...   \n",
       "7     SHAWNEE  Acute Myocardial Infarction (AMI) 30-Day Morta...   \n",
       "8     SHAWNEE  Acute Myocardial Infarction (AMI) 30-Day Morta...   \n",
       "9     SHAWNEE  Acute Myocardial Infarction (AMI) 30-Day Morta...   \n",
       "\n",
       "  Measure ID Readmission        Compare to National  Denominator Readmission  \\\n",
       "0            MORT-30-AMI  Number of Cases Too Small                      NaN   \n",
       "1            MORT-30-AMI  Number of Cases Too Small                      NaN   \n",
       "2            MORT-30-AMI  Number of Cases Too Small                      NaN   \n",
       "3            MORT-30-AMI  Number of Cases Too Small                      NaN   \n",
       "4            MORT-30-AMI  Number of Cases Too Small                      NaN   \n",
       "5            MORT-30-AMI  Number of Cases Too Small                      NaN   \n",
       "6            MORT-30-AMI  Number of Cases Too Small                      NaN   \n",
       "7            MORT-30-AMI  Number of Cases Too Small                      NaN   \n",
       "8            MORT-30-AMI  Number of Cases Too Small                      NaN   \n",
       "9            MORT-30-AMI  Number of Cases Too Small                      NaN   \n",
       "\n",
       "   Score Readmission  Lower Estimate Readmission  Higher Estimate Readmission  \\\n",
       "0                NaN                         NaN                          NaN   \n",
       "1                NaN                         NaN                          NaN   \n",
       "2                NaN                         NaN                          NaN   \n",
       "3                NaN                         NaN                          NaN   \n",
       "4                NaN                         NaN                          NaN   \n",
       "5                NaN                         NaN                          NaN   \n",
       "6                NaN                         NaN                          NaN   \n",
       "7                NaN                         NaN                          NaN   \n",
       "8                NaN                         NaN                          NaN   \n",
       "9                NaN                         NaN                          NaN   \n",
       "\n",
       "                               Measure Name Medicare Measure ID Medicare  \\\n",
       "0  Medicare hospital spending per patient (Medica...              MSPB-1   \n",
       "1  Medicare hospital spending per patient (Medica...              MSPB-1   \n",
       "2  Medicare hospital spending per patient (Medica...              MSPB-1   \n",
       "3  Medicare hospital spending per patient (Medica...              MSPB-1   \n",
       "4  Medicare hospital spending per patient (Medica...              MSPB-1   \n",
       "5  Medicare hospital spending per patient (Medica...              MSPB-1   \n",
       "6  Medicare hospital spending per patient (Medica...              MSPB-1   \n",
       "7  Medicare hospital spending per patient (Medica...              MSPB-1   \n",
       "8  Medicare hospital spending per patient (Medica...              MSPB-1   \n",
       "9  Medicare hospital spending per patient (Medica...              MSPB-1   \n",
       "\n",
       "  Score Medicare                                       Measure Name  \\\n",
       "0           0.98     Hospital return days for heart attack patients   \n",
       "1           0.98    Hospital return days for heart failure patients   \n",
       "2           0.98        Hospital return days for pneumonia patients   \n",
       "3           0.98  Rate of unplanned hospital visits after colono...   \n",
       "4           0.98  Acute Myocardial Infarction (AMI) 30-Day Readm...   \n",
       "5           0.98                       Rate of readmission for CABG   \n",
       "6           0.98  Rate of readmission for chronic obstructive pu...   \n",
       "7           0.98         Heart failure (HF) 30-Day Readmission Rate   \n",
       "8           0.98     Rate of readmission after hip/knee replacement   \n",
       "9           0.98  30-Day Hospital-Wide All-Cause Unplanned Readm...   \n",
       "\n",
       "           Measure ID                        Compared to National  \\\n",
       "0         EDAC_30_AMI             Average days per 100 discharges   \n",
       "1          EDAC_30_HF             Average days per 100 discharges   \n",
       "2          EDAC_30_PN  Fewer days than average per 100 discharges   \n",
       "3               OP-32         No Different than the National Rate   \n",
       "4        READM_30_AMI         No Different than the National Rate   \n",
       "5       READM_30_CABG         No Different than the National Rate   \n",
       "6       READM_30_COPD         No Different than the National Rate   \n",
       "7         READM_30_HF         No Different than the National Rate   \n",
       "8   READM_30_HIP_KNEE         No Different than the National Rate   \n",
       "9  READM_30_HOSP_WIDE         No Different than the National Rate   \n",
       "\n",
       "  Denominator Unexpected Visit  Score Lower Estimate Unexpected Visit  \\\n",
       "0                          181   -9.5                           -24.7   \n",
       "1                          414  -12.7                             -30   \n",
       "2                          467    -15                             -29   \n",
       "3                           96   15.8                            11.1   \n",
       "4                          181   14.4                            11.7   \n",
       "5                           57   13.5                              10   \n",
       "6                          257   20.1                            17.1   \n",
       "7                          414   19.5                            16.7   \n",
       "8                          573    4.2                             3.1   \n",
       "9                         2137   14.9                            13.9   \n",
       "\n",
       "  Higher Estimate Unexpected Visit  \n",
       "0                                8  \n",
       "1                              4.3  \n",
       "2                             -2.6  \n",
       "3                             22.3  \n",
       "4                             17.7  \n",
       "5                             18.3  \n",
       "6                             23.6  \n",
       "7                             22.6  \n",
       "8                              5.6  \n",
       "9                             15.9  "
      ]
     },
     "execution_count": 48,
     "metadata": {},
     "output_type": "execute_result"
    }
   ],
   "source": [
    "# readmit_min, u_min, medi_min\n",
    "# readmit_min = readmit_min.rename(columns={\"County\":\"County Name\"})\n",
    "# merge_alpha = pd.merge(readmit_min, medi_min, on=[\"County Name\"], suffixes=(\" Readmission\", \" Medicare\"))\n",
    "# merge_one = pd.merge(merge_alpha, u_min, on=[\"County Name\"], suffixes=(\" Readmission\", \" Unexpected Visit\"))\n",
    "# merge_one.head(10)"
   ]
  },
  {
   "cell_type": "code",
   "execution_count": null,
   "metadata": {},
   "outputs": [],
   "source": [
    "kansas = [559836, 503438, 179060, 8523, ]"
   ]
  }
 ],
 "metadata": {
  "hide_input": false,
  "kernelspec": {
   "display_name": "Python 3",
   "language": "python",
   "name": "python3"
  },
  "language_info": {
   "codemirror_mode": {
    "name": "ipython",
    "version": 3
   },
   "file_extension": ".py",
   "mimetype": "text/x-python",
   "name": "python",
   "nbconvert_exporter": "python",
   "pygments_lexer": "ipython3",
   "version": "3.7.1"
  },
  "toc": {
   "base_numbering": 1,
   "nav_menu": {},
   "number_sections": true,
   "sideBar": true,
   "skip_h1_title": false,
   "title_cell": "Table of Contents",
   "title_sidebar": "Contents",
   "toc_cell": false,
   "toc_position": {},
   "toc_section_display": true,
   "toc_window_display": false
  },
  "varInspector": {
   "cols": {
    "lenName": 16,
    "lenType": 16,
    "lenVar": 40
   },
   "kernels_config": {
    "python": {
     "delete_cmd_postfix": "",
     "delete_cmd_prefix": "del ",
     "library": "var_list.py",
     "varRefreshCmd": "print(var_dic_list())"
    },
    "r": {
     "delete_cmd_postfix": ") ",
     "delete_cmd_prefix": "rm(",
     "library": "var_list.r",
     "varRefreshCmd": "cat(var_dic_list()) "
    }
   },
   "types_to_exclude": [
    "module",
    "function",
    "builtin_function_or_method",
    "instance",
    "_Feature"
   ],
   "window_display": false
  }
 },
 "nbformat": 4,
 "nbformat_minor": 2
}
